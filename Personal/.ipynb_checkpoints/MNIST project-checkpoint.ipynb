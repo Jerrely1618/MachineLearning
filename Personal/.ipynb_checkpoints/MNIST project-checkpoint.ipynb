{
 "cells": [
  {
   "cell_type": "markdown",
   "id": "3882a23e",
   "metadata": {},
   "source": [
    "# MNIST project"
   ]
  },
  {
   "cell_type": "markdown",
   "id": "8d0407e9",
   "metadata": {},
   "source": [
    "### Import modules"
   ]
  },
  {
   "cell_type": "code",
   "execution_count": 12,
   "id": "b28db3b7",
   "metadata": {},
   "outputs": [],
   "source": [
    "from keras.datasets import mnist\n",
    "from keras import models, layers\n",
    "from keras.utils import to_categorical"
   ]
  },
  {
   "cell_type": "markdown",
   "id": "ca87e3c5",
   "metadata": {},
   "source": [
    "### Fetching and Preparing the Data"
   ]
  },
  {
   "cell_type": "code",
   "execution_count": 15,
   "id": "6f8589c3",
   "metadata": {},
   "outputs": [],
   "source": [
    "(train_images, train_labels), (test_images,test_labels) = mnist.load_data()"
   ]
  },
  {
   "cell_type": "code",
   "execution_count": 16,
   "id": "fecb7079",
   "metadata": {},
   "outputs": [
    {
     "ename": "TypeError",
     "evalue": "'numpy.ndarray' object is not callable",
     "output_type": "error",
     "traceback": [
      "\u001b[1;31m---------------------------------------------------------------------------\u001b[0m",
      "\u001b[1;31mTypeError\u001b[0m                                 Traceback (most recent call last)",
      "Cell \u001b[1;32mIn[16], line 7\u001b[0m\n\u001b[0;32m      4\u001b[0m \u001b[38;5;28;01massert\u001b[39;00m test_labels\u001b[38;5;241m.\u001b[39mshape \u001b[38;5;241m==\u001b[39m (\u001b[38;5;241m10000\u001b[39m,)\n\u001b[0;32m      6\u001b[0m train_images \u001b[38;5;241m=\u001b[39m train_images\u001b[38;5;241m.\u001b[39mreshape((\u001b[38;5;241m60000\u001b[39m, \u001b[38;5;241m28\u001b[39m\u001b[38;5;241m*\u001b[39m\u001b[38;5;241m28\u001b[39m))\n\u001b[1;32m----> 7\u001b[0m train_images \u001b[38;5;241m=\u001b[39m train_images(\u001b[38;5;124m'\u001b[39m\u001b[38;5;124mfloat32\u001b[39m\u001b[38;5;124m'\u001b[39m) \u001b[38;5;241m/\u001b[39m \u001b[38;5;241m255\u001b[39m\n\u001b[0;32m      8\u001b[0m train_labels \u001b[38;5;241m=\u001b[39m to_categorical(train_labels)\n\u001b[0;32m     10\u001b[0m test_images \u001b[38;5;241m=\u001b[39m test_images\u001b[38;5;241m.\u001b[39mreshape((\u001b[38;5;241m60000\u001b[39m, \u001b[38;5;241m28\u001b[39m\u001b[38;5;241m*\u001b[39m\u001b[38;5;241m28\u001b[39m))\n",
      "\u001b[1;31mTypeError\u001b[0m: 'numpy.ndarray' object is not callable"
     ]
    }
   ],
   "source": [
    "assert train_images.shape == (60000, 28, 28)\n",
    "assert test_images.shape == (10000, 28, 28)\n",
    "assert train_labels.shape == (60000,)\n",
    "assert test_labels.shape == (10000,)\n",
    "\n",
    "train_images = train_images.reshape((60000, 28*28))\n",
    "train_images = train_images.astype('float32') / 255\n",
    "train_labels = to_categorical(train_labels)\n",
    "\n",
    "test_images = test_images.reshape((60000, 28*28))\n",
    "test_images = test_images.astype('float32') / 255\n",
    "test_labels = to_categorical(test_labels)"
   ]
  },
  {
   "cell_type": "markdown",
   "id": "22e7e048",
   "metadata": {},
   "source": [
    "### Creating the Neural Network"
   ]
  },
  {
   "cell_type": "code",
   "execution_count": 6,
   "id": "9a97c13e",
   "metadata": {},
   "outputs": [],
   "source": [
    "neural_net = models.Sequential()\n",
    "neural_net.add(layers.Dense(512, activation='relu', input_shape=(28*28,)))\n",
    "neural_net.add(layers.Dense(10, activation='softmax'))\n",
    "neural_net.compile(optimizer='rmsprop',loss='categorical_crossentropy',metrics=['accuracy'])\n"
   ]
  },
  {
   "cell_type": "code",
   "execution_count": 9,
   "id": "737fc1a8",
   "metadata": {},
   "outputs": [],
   "source": [
    "neural_net.compile(optimizer='rmsprop',loss='categorical_crossentropy',metrics=['accuracy'])"
   ]
  },
  {
   "cell_type": "code",
   "execution_count": null,
   "id": "003c9ea2",
   "metadata": {},
   "outputs": [],
   "source": []
  }
 ],
 "metadata": {
  "kernelspec": {
   "display_name": "Python 3 (ipykernel)",
   "language": "python",
   "name": "python3"
  },
  "language_info": {
   "codemirror_mode": {
    "name": "ipython",
    "version": 3
   },
   "file_extension": ".py",
   "mimetype": "text/x-python",
   "name": "python",
   "nbconvert_exporter": "python",
   "pygments_lexer": "ipython3",
   "version": "3.11.4"
  }
 },
 "nbformat": 4,
 "nbformat_minor": 5
}
