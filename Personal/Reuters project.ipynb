{
 "cells": [
  {
   "cell_type": "markdown",
   "id": "6ffa83cc-e1d0-446a-aba8-bfd343ab6264",
   "metadata": {},
   "source": [
    "# MNIST project"
   ]
  },
  {
   "cell_type": "markdown",
   "id": "559dedb5-9d28-4fb9-ac0f-3d154124c99f",
   "metadata": {},
   "source": [
    "## Import modules"
   ]
  },
  {
   "cell_type": "code",
   "execution_count": 18,
   "id": "9129bb02-5414-4fa7-988c-01e7117883a4",
   "metadata": {},
   "outputs": [],
   "source": [
    "import numpy as np\n",
    "from keras.datasets import reuters\n",
    "from keras import models,layers\n",
    "import matplotlib.pyplot as plt"
   ]
  },
  {
   "cell_type": "markdown",
   "id": "e485093a-36f3-48fb-884f-cbfdef37bb27",
   "metadata": {},
   "source": [
    "## Data Wrangling"
   ]
  },
  {
   "cell_type": "code",
   "execution_count": 2,
   "id": "ea150fa3-03f0-403c-b48d-e95949ca36ae",
   "metadata": {},
   "outputs": [
    {
     "name": "stdout",
     "output_type": "stream",
     "text": [
      "Downloading data from https://storage.googleapis.com/tensorflow/tf-keras-datasets/reuters.npz\n",
      "2110848/2110848 [==============================] - 0s 0us/step\n"
     ]
    }
   ],
   "source": [
    "(train_data,train_labels),(test_data,test_labels)=reuters.load_data(num_words=10000)"
   ]
  },
  {
   "cell_type": "code",
   "execution_count": 11,
   "id": "bdb7b06f-227b-4a06-ad0d-c8509953a045",
   "metadata": {},
   "outputs": [],
   "source": [
    "def vectorize_sequences(sequences,dimension=10000):\n",
    "    results = np.zeros((len(sequences),dimension))\n",
    "    for i,sequence in enumerate(sequences):\n",
    "        results[i,sequence] = 1\n",
    "    return results\n",
    "def to_one_hot(labels,dimension=46): #Equivalent to to_categorical from keras.utils.np_utils\n",
    "    results = np.zeros((len(labels),dimension))\n",
    "    for i,label in enumerate(labels):\n",
    "        results[i,label] = 1\n",
    "    return results\n",
    "\n",
    "x_train = vectorize_sequences(train_data)\n",
    "x_test = vectorize_sequences(test_data)\n",
    "y_train = to_one_hot(train_labels)\n",
    "y_test = to_one_hot(test_labels)"
   ]
  },
  {
   "cell_type": "markdown",
   "id": "9ad321e4-1141-4261-9cb3-17a17afe0aa2",
   "metadata": {},
   "source": [
    "## Initialize Model"
   ]
  },
  {
   "cell_type": "code",
   "execution_count": 14,
   "id": "5a011434-ece7-4c24-9b64-2760d79c540d",
   "metadata": {},
   "outputs": [],
   "source": [
    "model = models.Sequential()\n",
    "model.add(layers.Dense(64,activation='relu',input_shape=(10000,)))\n",
    "model.add(layers.Dense(64,activation='relu'))\n",
    "model.add(layers.Dense(46,activation='softmax'))\n",
    "\n",
    "model.compile(optimizer='rmsprop',loss='categorical_crossentropy',metrics=['accuracy'])"
   ]
  },
  {
   "cell_type": "code",
   "execution_count": 15,
   "id": "a0f8a64a-c7ed-4cc6-b287-150cac27d59a",
   "metadata": {},
   "outputs": [],
   "source": [
    "x_val = x_train[1000:]\n",
    "partial_x_train = x_train[:10000]\n",
    "y_val = y_train[1000:]\n",
    "partial_y_train = y_train[:10000]"
   ]
  },
  {
   "cell_type": "markdown",
   "id": "81ee9fd7-5149-4449-81da-66370ee8753c",
   "metadata": {},
   "source": [
    "## Fit model"
   ]
  },
  {
   "cell_type": "code",
   "execution_count": 17,
   "id": "38aa06dc-3e15-453e-9639-448c8619cccc",
   "metadata": {},
   "outputs": [
    {
     "name": "stdout",
     "output_type": "stream",
     "text": [
      "Epoch 1/20\n",
      "18/18 [==============================] - 2s 100ms/step - loss: 2.6184 - accuracy: 0.4519 - val_loss: 1.7235 - val_accuracy: 0.6417\n",
      "Epoch 2/20\n",
      "18/18 [==============================] - 1s 33ms/step - loss: 1.4934 - accuracy: 0.6792 - val_loss: 1.2264 - val_accuracy: 0.7439\n",
      "Epoch 3/20\n",
      "18/18 [==============================] - 1s 31ms/step - loss: 1.1397 - accuracy: 0.7564 - val_loss: 0.9781 - val_accuracy: 0.7944\n",
      "Epoch 4/20\n",
      "18/18 [==============================] - 1s 31ms/step - loss: 0.9234 - accuracy: 0.8057 - val_loss: 0.7986 - val_accuracy: 0.8339\n",
      "Epoch 5/20\n",
      "18/18 [==============================] - 1s 30ms/step - loss: 0.7635 - accuracy: 0.8390 - val_loss: 0.6491 - val_accuracy: 0.8619\n",
      "Epoch 6/20\n",
      "18/18 [==============================] - 1s 32ms/step - loss: 0.6313 - accuracy: 0.8644 - val_loss: 0.5568 - val_accuracy: 0.8690\n",
      "Epoch 7/20\n",
      "18/18 [==============================] - 1s 32ms/step - loss: 0.5248 - accuracy: 0.8883 - val_loss: 0.4608 - val_accuracy: 0.9080\n",
      "Epoch 8/20\n",
      "18/18 [==============================] - 1s 30ms/step - loss: 0.4393 - accuracy: 0.9077 - val_loss: 0.3687 - val_accuracy: 0.9243\n",
      "Epoch 9/20\n",
      "18/18 [==============================] - 1s 28ms/step - loss: 0.3649 - accuracy: 0.9217 - val_loss: 0.3080 - val_accuracy: 0.9354\n",
      "Epoch 10/20\n",
      "18/18 [==============================] - 0s 28ms/step - loss: 0.3119 - accuracy: 0.9326 - val_loss: 0.2749 - val_accuracy: 0.9381\n",
      "Epoch 11/20\n",
      "18/18 [==============================] - 1s 29ms/step - loss: 0.2703 - accuracy: 0.9384 - val_loss: 0.2347 - val_accuracy: 0.9476\n",
      "Epoch 12/20\n",
      "18/18 [==============================] - 1s 28ms/step - loss: 0.2423 - accuracy: 0.9429 - val_loss: 0.2042 - val_accuracy: 0.9534\n",
      "Epoch 13/20\n",
      "18/18 [==============================] - 1s 30ms/step - loss: 0.2136 - accuracy: 0.9488 - val_loss: 0.1979 - val_accuracy: 0.9538\n",
      "Epoch 14/20\n",
      "18/18 [==============================] - 1s 30ms/step - loss: 0.1955 - accuracy: 0.9488 - val_loss: 0.1790 - val_accuracy: 0.9538\n",
      "Epoch 15/20\n",
      "18/18 [==============================] - 1s 28ms/step - loss: 0.1817 - accuracy: 0.9493 - val_loss: 0.1488 - val_accuracy: 0.9593\n",
      "Epoch 16/20\n",
      "18/18 [==============================] - 1s 30ms/step - loss: 0.1686 - accuracy: 0.9511 - val_loss: 0.1435 - val_accuracy: 0.9607\n",
      "Epoch 17/20\n",
      "18/18 [==============================] - 1s 29ms/step - loss: 0.1544 - accuracy: 0.9527 - val_loss: 0.1280 - val_accuracy: 0.9624\n",
      "Epoch 18/20\n",
      "18/18 [==============================] - 1s 29ms/step - loss: 0.1516 - accuracy: 0.9532 - val_loss: 0.1180 - val_accuracy: 0.9632\n",
      "Epoch 19/20\n",
      "18/18 [==============================] - 1s 29ms/step - loss: 0.1414 - accuracy: 0.9535 - val_loss: 0.1140 - val_accuracy: 0.9637\n",
      "Epoch 20/20\n",
      "18/18 [==============================] - 0s 28ms/step - loss: 0.1371 - accuracy: 0.9540 - val_loss: 0.1217 - val_accuracy: 0.9643\n"
     ]
    }
   ],
   "source": [
    "history = model.fit(partial_x_train,partial_y_train,epochs=20,batch_size=512,validation_data=[x_val,y_val])"
   ]
  },
  {
   "cell_type": "code",
   "execution_count": null,
   "id": "1da067d7-d1bd-43f3-a89b-a961bf4fee10",
   "metadata": {},
   "outputs": [],
   "source": []
  }
 ],
 "metadata": {
  "kernelspec": {
   "display_name": "Python 3 (ipykernel)",
   "language": "python",
   "name": "python3"
  },
  "language_info": {
   "codemirror_mode": {
    "name": "ipython",
    "version": 3
   },
   "file_extension": ".py",
   "mimetype": "text/x-python",
   "name": "python",
   "nbconvert_exporter": "python",
   "pygments_lexer": "ipython3",
   "version": "3.11.3"
  }
 },
 "nbformat": 4,
 "nbformat_minor": 5
}
