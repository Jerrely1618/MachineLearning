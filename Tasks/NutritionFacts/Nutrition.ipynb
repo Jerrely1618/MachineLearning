{
 "cells": [
  {
   "cell_type": "markdown",
   "id": "788032f3-678d-4a73-83e0-9e5a9aba23dc",
   "metadata": {},
   "source": [
    "# Nutrition Model"
   ]
  },
  {
   "cell_type": "markdown",
   "id": "652270fa-31db-4394-80bf-3fce7b45548b",
   "metadata": {},
   "source": [
    "### Importing modules"
   ]
  },
  {
   "cell_type": "code",
   "execution_count": 132,
   "id": "ed96fb48-28e5-434d-83b7-54833379f792",
   "metadata": {},
   "outputs": [],
   "source": [
    "import pandas as pd\n",
    "import os\n",
    "from dotenv import load_dotenv\n",
    "import numpy as np\n",
    "from keras import models,layers\n",
    "from sklearn.preprocessing import StandardScaler\n",
    "import matplotlib.pyplot as plt"
   ]
  },
  {
   "cell_type": "markdown",
   "id": "12397652-3487-412e-af42-0eeefdd87fbb",
   "metadata": {},
   "source": [
    "### Loading Data"
   ]
  },
  {
   "cell_type": "code",
   "execution_count": 133,
   "id": "88a122c6-5706-491e-95e6-3e7ad9a6b13f",
   "metadata": {},
   "outputs": [],
   "source": [
    "load_dotenv()\n",
    "FILE = os.environ.get('dataset_location')\n",
    "FOOD_SET = pd.read_csv(FILE).fillna(0.0)"
   ]
  },
  {
   "cell_type": "code",
   "execution_count": 134,
   "id": "446aaf23-f22f-42f4-8c06-beca4cbfb5ce",
   "metadata": {},
   "outputs": [
    {
     "data": {
      "text/plain": [
       "Index(['id', 'name', 'servin_size', 'calories', 'total_fat', 'saturated_fat',\n",
       "       'cholesterol', 'sodium', 'choline', 'folate', 'folic_acid', 'niacin',\n",
       "       'pantothenic_acid', 'riboflavin', 'thiamin', 'vitamin_a',\n",
       "       'vitamin_a_rae', 'carotene_alpha', 'carotene_beta',\n",
       "       'cryptoxanthin_beta', 'lutein_zeaxanthin', 'lucopene', 'vitamin_b12',\n",
       "       'vitamin_b6', 'vitamin_c', 'vitamin_d', 'vitamin_e', 'tocopherol_alpha',\n",
       "       'vitamin_k', 'calcium', 'copper', 'iron', 'manesium', 'mananese',\n",
       "       'phosphorous', 'potassium', 'selenium', 'zink', 'protein', 'alanine',\n",
       "       'arinine', 'aspartic_acid', 'cystine', 'lutamic_acid', 'lycine',\n",
       "       'histidine', 'hydroxyproline', 'isoleucine', 'leucine', 'lysine',\n",
       "       'methionine', 'phenylalanine', 'proline', 'serine', 'threonine',\n",
       "       'tryptophan', 'tyrosine', 'valine', 'carbohydrate', 'fiber', 'sugars',\n",
       "       'fructose', 'alactose', 'lucose', 'lactose', 'maltose', 'sucrose',\n",
       "       'fat', 'saturated_fatty_acids', 'monounsaturated_fatty_acids',\n",
       "       'polyunsaturated_fatty_acids', 'fatty_acids_total_trans', 'alcohol',\n",
       "       'ash', 'caffeine', 'theobromine', 'water'],\n",
       "      dtype='object')"
      ]
     },
     "execution_count": 134,
     "metadata": {},
     "output_type": "execute_result"
    }
   ],
   "source": [
    "FOOD_SET.columns"
   ]
  },
  {
   "cell_type": "code",
   "execution_count": 135,
   "id": "c3a543af-1383-4d36-b01d-61144350b28a",
   "metadata": {},
   "outputs": [
    {
     "data": {
      "text/html": [
       "<div>\n",
       "<style scoped>\n",
       "    .dataframe tbody tr th:only-of-type {\n",
       "        vertical-align: middle;\n",
       "    }\n",
       "\n",
       "    .dataframe tbody tr th {\n",
       "        vertical-align: top;\n",
       "    }\n",
       "\n",
       "    .dataframe thead th {\n",
       "        text-align: right;\n",
       "    }\n",
       "</style>\n",
       "<table border=\"1\" class=\"dataframe\">\n",
       "  <thead>\n",
       "    <tr style=\"text-align: right;\">\n",
       "      <th></th>\n",
       "      <th>id</th>\n",
       "      <th>name</th>\n",
       "      <th>servin_size</th>\n",
       "      <th>calories</th>\n",
       "      <th>total_fat</th>\n",
       "      <th>saturated_fat</th>\n",
       "      <th>cholesterol</th>\n",
       "      <th>sodium</th>\n",
       "      <th>choline</th>\n",
       "      <th>folate</th>\n",
       "      <th>...</th>\n",
       "      <th>fat</th>\n",
       "      <th>saturated_fatty_acids</th>\n",
       "      <th>monounsaturated_fatty_acids</th>\n",
       "      <th>polyunsaturated_fatty_acids</th>\n",
       "      <th>fatty_acids_total_trans</th>\n",
       "      <th>alcohol</th>\n",
       "      <th>ash</th>\n",
       "      <th>caffeine</th>\n",
       "      <th>theobromine</th>\n",
       "      <th>water</th>\n",
       "    </tr>\n",
       "  </thead>\n",
       "  <tbody>\n",
       "    <tr>\n",
       "      <th>0</th>\n",
       "      <td>0</td>\n",
       "      <td>Cornstarch</td>\n",
       "      <td>100</td>\n",
       "      <td>381</td>\n",
       "      <td>0.1</td>\n",
       "      <td>0.0</td>\n",
       "      <td>0</td>\n",
       "      <td>9.0</td>\n",
       "      <td>0.4</td>\n",
       "      <td>0.00 mc</td>\n",
       "      <td>...</td>\n",
       "      <td>0.05</td>\n",
       "      <td>0.009</td>\n",
       "      <td>0.016</td>\n",
       "      <td>0.025</td>\n",
       "      <td>0.0</td>\n",
       "      <td>0.0</td>\n",
       "      <td>0.09</td>\n",
       "      <td>0.0</td>\n",
       "      <td>0.0</td>\n",
       "      <td>8.32</td>\n",
       "    </tr>\n",
       "    <tr>\n",
       "      <th>1</th>\n",
       "      <td>1</td>\n",
       "      <td>Nuts, pecans</td>\n",
       "      <td>100</td>\n",
       "      <td>691</td>\n",
       "      <td>72.0</td>\n",
       "      <td>6.2</td>\n",
       "      <td>0</td>\n",
       "      <td>0.0</td>\n",
       "      <td>40.5</td>\n",
       "      <td>22.00 mc</td>\n",
       "      <td>...</td>\n",
       "      <td>71.97</td>\n",
       "      <td>6.180</td>\n",
       "      <td>40.801</td>\n",
       "      <td>21.614</td>\n",
       "      <td>0.0</td>\n",
       "      <td>0.0</td>\n",
       "      <td>1.49</td>\n",
       "      <td>0.0</td>\n",
       "      <td>0.0</td>\n",
       "      <td>3.52</td>\n",
       "    </tr>\n",
       "    <tr>\n",
       "      <th>2</th>\n",
       "      <td>2</td>\n",
       "      <td>Eplant, raw</td>\n",
       "      <td>100</td>\n",
       "      <td>25</td>\n",
       "      <td>0.2</td>\n",
       "      <td>0.0</td>\n",
       "      <td>0</td>\n",
       "      <td>2.0</td>\n",
       "      <td>6.9</td>\n",
       "      <td>22.00 mc</td>\n",
       "      <td>...</td>\n",
       "      <td>0.18</td>\n",
       "      <td>0.034</td>\n",
       "      <td>0.016</td>\n",
       "      <td>0.076</td>\n",
       "      <td>0.0</td>\n",
       "      <td>0.0</td>\n",
       "      <td>0.66</td>\n",
       "      <td>0.0</td>\n",
       "      <td>0.0</td>\n",
       "      <td>92.30</td>\n",
       "    </tr>\n",
       "    <tr>\n",
       "      <th>3</th>\n",
       "      <td>3</td>\n",
       "      <td>Teff, uncooked</td>\n",
       "      <td>100</td>\n",
       "      <td>367</td>\n",
       "      <td>2.4</td>\n",
       "      <td>0.4</td>\n",
       "      <td>0</td>\n",
       "      <td>12.0</td>\n",
       "      <td>13.1</td>\n",
       "      <td>0</td>\n",
       "      <td>...</td>\n",
       "      <td>2.38</td>\n",
       "      <td>0.449</td>\n",
       "      <td>0.589</td>\n",
       "      <td>1.071</td>\n",
       "      <td>0.0</td>\n",
       "      <td>0.0</td>\n",
       "      <td>2.37</td>\n",
       "      <td>0.0</td>\n",
       "      <td>0.0</td>\n",
       "      <td>8.82</td>\n",
       "    </tr>\n",
       "    <tr>\n",
       "      <th>4</th>\n",
       "      <td>4</td>\n",
       "      <td>Sherbet, orane</td>\n",
       "      <td>100</td>\n",
       "      <td>144</td>\n",
       "      <td>2.0</td>\n",
       "      <td>1.2</td>\n",
       "      <td>1</td>\n",
       "      <td>46.0</td>\n",
       "      <td>7.7</td>\n",
       "      <td>4.00 mc</td>\n",
       "      <td>...</td>\n",
       "      <td>2.00</td>\n",
       "      <td>1.160</td>\n",
       "      <td>0.530</td>\n",
       "      <td>0.080</td>\n",
       "      <td>1.0</td>\n",
       "      <td>0.0</td>\n",
       "      <td>0.40</td>\n",
       "      <td>0.0</td>\n",
       "      <td>0.0</td>\n",
       "      <td>66.10</td>\n",
       "    </tr>\n",
       "  </tbody>\n",
       "</table>\n",
       "<p>5 rows × 77 columns</p>\n",
       "</div>"
      ],
      "text/plain": [
       "   id            name  servin_size  calories  total_fat  saturated_fat  \\\n",
       "0   0      Cornstarch          100       381        0.1            0.0   \n",
       "1   1    Nuts, pecans          100       691       72.0            6.2   \n",
       "2   2     Eplant, raw          100        25        0.2            0.0   \n",
       "3   3  Teff, uncooked          100       367        2.4            0.4   \n",
       "4   4  Sherbet, orane          100       144        2.0            1.2   \n",
       "\n",
       "   cholesterol  sodium  choline    folate  ...    fat  saturated_fatty_acids  \\\n",
       "0            0     9.0      0.4   0.00 mc  ...   0.05                  0.009   \n",
       "1            0     0.0     40.5  22.00 mc  ...  71.97                  6.180   \n",
       "2            0     2.0      6.9  22.00 mc  ...   0.18                  0.034   \n",
       "3            0    12.0     13.1         0  ...   2.38                  0.449   \n",
       "4            1    46.0      7.7   4.00 mc  ...   2.00                  1.160   \n",
       "\n",
       "   monounsaturated_fatty_acids  polyunsaturated_fatty_acids  \\\n",
       "0                        0.016                        0.025   \n",
       "1                       40.801                       21.614   \n",
       "2                        0.016                        0.076   \n",
       "3                        0.589                        1.071   \n",
       "4                        0.530                        0.080   \n",
       "\n",
       "   fatty_acids_total_trans alcohol   ash caffeine theobromine  water  \n",
       "0                      0.0     0.0  0.09      0.0         0.0   8.32  \n",
       "1                      0.0     0.0  1.49      0.0         0.0   3.52  \n",
       "2                      0.0     0.0  0.66      0.0         0.0  92.30  \n",
       "3                      0.0     0.0  2.37      0.0         0.0   8.82  \n",
       "4                      1.0     0.0  0.40      0.0         0.0  66.10  \n",
       "\n",
       "[5 rows x 77 columns]"
      ]
     },
     "execution_count": 135,
     "metadata": {},
     "output_type": "execute_result"
    }
   ],
   "source": [
    "FOOD_SET.head()"
   ]
  },
  {
   "cell_type": "code",
   "execution_count": 136,
   "id": "088b6280-c1da-4a9b-a40e-73ecef316012",
   "metadata": {},
   "outputs": [
    {
     "data": {
      "text/html": [
       "<div>\n",
       "<style scoped>\n",
       "    .dataframe tbody tr th:only-of-type {\n",
       "        vertical-align: middle;\n",
       "    }\n",
       "\n",
       "    .dataframe tbody tr th {\n",
       "        vertical-align: top;\n",
       "    }\n",
       "\n",
       "    .dataframe thead th {\n",
       "        text-align: right;\n",
       "    }\n",
       "</style>\n",
       "<table border=\"1\" class=\"dataframe\">\n",
       "  <thead>\n",
       "    <tr style=\"text-align: right;\">\n",
       "      <th></th>\n",
       "      <th>calories</th>\n",
       "      <th>total_fat</th>\n",
       "      <th>saturated_fat</th>\n",
       "      <th>cholesterol</th>\n",
       "      <th>sodium</th>\n",
       "      <th>carbohydrate</th>\n",
       "      <th>fiber</th>\n",
       "      <th>sugars</th>\n",
       "      <th>calcium</th>\n",
       "      <th>iron</th>\n",
       "      <th>potassium</th>\n",
       "    </tr>\n",
       "  </thead>\n",
       "  <tbody>\n",
       "    <tr>\n",
       "      <th>0</th>\n",
       "      <td>381</td>\n",
       "      <td>0.1</td>\n",
       "      <td>0.0</td>\n",
       "      <td>0</td>\n",
       "      <td>9.0</td>\n",
       "      <td>91.27</td>\n",
       "      <td>0.9</td>\n",
       "      <td>0.00</td>\n",
       "      <td>2.0</td>\n",
       "      <td>0.47</td>\n",
       "      <td>3.0</td>\n",
       "    </tr>\n",
       "    <tr>\n",
       "      <th>1</th>\n",
       "      <td>691</td>\n",
       "      <td>72.0</td>\n",
       "      <td>6.2</td>\n",
       "      <td>0</td>\n",
       "      <td>0.0</td>\n",
       "      <td>13.86</td>\n",
       "      <td>9.6</td>\n",
       "      <td>3.97</td>\n",
       "      <td>70.0</td>\n",
       "      <td>2.53</td>\n",
       "      <td>410.0</td>\n",
       "    </tr>\n",
       "    <tr>\n",
       "      <th>2</th>\n",
       "      <td>25</td>\n",
       "      <td>0.2</td>\n",
       "      <td>0.0</td>\n",
       "      <td>0</td>\n",
       "      <td>2.0</td>\n",
       "      <td>5.88</td>\n",
       "      <td>3.0</td>\n",
       "      <td>3.53</td>\n",
       "      <td>9.0</td>\n",
       "      <td>0.23</td>\n",
       "      <td>229.0</td>\n",
       "    </tr>\n",
       "    <tr>\n",
       "      <th>3</th>\n",
       "      <td>367</td>\n",
       "      <td>2.4</td>\n",
       "      <td>0.4</td>\n",
       "      <td>0</td>\n",
       "      <td>12.0</td>\n",
       "      <td>73.13</td>\n",
       "      <td>8.0</td>\n",
       "      <td>1.84</td>\n",
       "      <td>180.0</td>\n",
       "      <td>7.63</td>\n",
       "      <td>427.0</td>\n",
       "    </tr>\n",
       "    <tr>\n",
       "      <th>4</th>\n",
       "      <td>144</td>\n",
       "      <td>2.0</td>\n",
       "      <td>1.2</td>\n",
       "      <td>1</td>\n",
       "      <td>46.0</td>\n",
       "      <td>30.40</td>\n",
       "      <td>1.3</td>\n",
       "      <td>24.32</td>\n",
       "      <td>54.0</td>\n",
       "      <td>0.14</td>\n",
       "      <td>96.0</td>\n",
       "    </tr>\n",
       "  </tbody>\n",
       "</table>\n",
       "</div>"
      ],
      "text/plain": [
       "   calories  total_fat  saturated_fat  cholesterol  sodium  carbohydrate  \\\n",
       "0       381        0.1            0.0            0     9.0         91.27   \n",
       "1       691       72.0            6.2            0     0.0         13.86   \n",
       "2        25        0.2            0.0            0     2.0          5.88   \n",
       "3       367        2.4            0.4            0    12.0         73.13   \n",
       "4       144        2.0            1.2            1    46.0         30.40   \n",
       "\n",
       "   fiber  sugars  calcium  iron  potassium  \n",
       "0    0.9    0.00      2.0  0.47        3.0  \n",
       "1    9.6    3.97     70.0  2.53      410.0  \n",
       "2    3.0    3.53      9.0  0.23      229.0  \n",
       "3    8.0    1.84    180.0  7.63      427.0  \n",
       "4    1.3   24.32     54.0  0.14       96.0  "
      ]
     },
     "execution_count": 136,
     "metadata": {},
     "output_type": "execute_result"
    }
   ],
   "source": [
    "Filt_set = FOOD_SET[['calories', 'total_fat', 'saturated_fat', 'cholesterol', 'sodium', 'carbohydrate', 'fiber', 'sugars', 'calcium', 'iron', 'potassium']]\n",
    "Filt_set.head()"
   ]
  },
  {
   "cell_type": "code",
   "execution_count": 137,
   "id": "4d47f7b8-ff30-44a3-90be-c99fe337979b",
   "metadata": {},
   "outputs": [
    {
     "data": {
      "text/plain": [
       "array([ 0.91088603, -0.66110042, -0.53415339, -0.32997286, -0.31661445,\n",
       "        2.53617533, -0.26706239, -0.49250904, -0.35687383, -0.38436147,\n",
       "       -0.70607273])"
      ]
     },
     "execution_count": 137,
     "metadata": {},
     "output_type": "execute_result"
    }
   ],
   "source": [
    "xx = StandardScaler().fit_transform(Filt_set)\n",
    "xx[0]"
   ]
  },
  {
   "cell_type": "markdown",
   "id": "ce01629d-4088-47c3-b991-424445fceb04",
   "metadata": {},
   "source": [
    "### Parameters"
   ]
  },
  {
   "cell_type": "code",
   "execution_count": 186,
   "id": "aef693ff-6598-44d9-a550-e8e34a5538fe",
   "metadata": {},
   "outputs": [],
   "source": [
    "DETERMINANT = 2\n",
    "Test_Train = 0.8\n",
    "DAILY_VALUES = {'calories': 2000.0,\n",
    "                'total_fat': 65.0,\n",
    "                'saturated_fat': 20.0,\n",
    "                'cholesterol':300.0,\n",
    "                'sodium':2300.0,\n",
    "                'carbohydrate':225.0,\n",
    "                'fiber':30.0,\n",
    "                'sugars':50.0,\n",
    "                'calcium':20.0,\n",
    "                'iron': 18.0,\n",
    "                'potassium':4700.0}\n",
    "np.set_printoptions(threshold=np.inf)"
   ]
  },
  {
   "cell_type": "markdown",
   "id": "b83398b7-906d-4532-b02b-3392a6a5380d",
   "metadata": {},
   "source": [
    "### Label Creation"
   ]
  },
  {
   "cell_type": "code",
   "execution_count": 187,
   "id": "13b7a1dd-bdfc-4be4-aae9-f5fb91b64a85",
   "metadata": {},
   "outputs": [
    {
     "name": "stdout",
     "output_type": "stream",
     "text": [
      "6097\n",
      "2692\n"
     ]
    }
   ],
   "source": [
    "yy = []\n",
    "for current_facts in Filt_set.values:\n",
    "    product_values = np.zeros(11,)\n",
    "\n",
    "    for i,(daily,fact) in enumerate(zip(DAILY_VALUES.values(),current_facts)):\n",
    "        percentage = (fact / daily)\n",
    "        product_values[i]=(round(percentage,100))    \n",
    "        product_unhealthy = np.sum(product_values > 0.2)\n",
    "    yy.append(1 if product_unhealthy >= DETERMINANT else 0)\n",
    "yy = np.array(yy)\n",
    "print(np.sum(yy == 1))\n",
    "print(np.sum(yy == 0))"
   ]
  },
  {
   "cell_type": "markdown",
   "id": "de9735a1-2661-497e-8c97-36a87d340fde",
   "metadata": {},
   "source": [
    "### Model Compile"
   ]
  },
  {
   "cell_type": "code",
   "execution_count": 140,
   "id": "f38160ae-aab7-4118-a5fb-efc04dacec2f",
   "metadata": {},
   "outputs": [],
   "source": [
    "model = models.Sequential()\n",
    "model.add(layers.Dense(128, activation='relu', input_shape=(11,)))\n",
    "model.add(layers.Dense(64, activation='relu'))\n",
    "model.add(layers.Dropout(0.5))\n",
    "model.add(layers.Dense(32, activation='relu'))\n",
    "model.add(layers.Dense(1, activation='sigmoid'))"
   ]
  },
  {
   "cell_type": "code",
   "execution_count": 141,
   "id": "c2aa4e9b-7382-4cb4-ad34-6cdd5109dca7",
   "metadata": {},
   "outputs": [],
   "source": [
    "model.compile(optimizer='adam', loss='binary_crossentropy', metrics=['accuracy'])"
   ]
  },
  {
   "cell_type": "markdown",
   "id": "da004ef1-0703-45a5-9431-99c87db99670",
   "metadata": {},
   "source": [
    "### Model Fit"
   ]
  },
  {
   "cell_type": "code",
   "execution_count": 142,
   "id": "2e1f7f23-ad91-4acb-9ad1-1090423b9301",
   "metadata": {},
   "outputs": [],
   "source": [
    "Division = round(Test_Train * len(yy))\n",
    "\n",
    "x_train, x_test, y_train, y_test = xx[:Division],xx[Division:],yy[:Division],yy[Division:]"
   ]
  },
  {
   "cell_type": "code",
   "execution_count": 143,
   "id": "e3c33544-ce73-47cd-99f8-f989a205d0b7",
   "metadata": {},
   "outputs": [
    {
     "name": "stdout",
     "output_type": "stream",
     "text": [
      "Epoch 1/15\n",
      "110/110 [==============================] - 1s 4ms/step - loss: 0.4729 - accuracy: 0.7694 - val_loss: 0.5216 - val_accuracy: 0.6251\n",
      "Epoch 2/15\n",
      "110/110 [==============================] - 0s 2ms/step - loss: 0.3742 - accuracy: 0.8032 - val_loss: 0.4229 - val_accuracy: 0.7605\n",
      "Epoch 3/15\n",
      "110/110 [==============================] - 0s 3ms/step - loss: 0.3289 - accuracy: 0.8389 - val_loss: 0.3685 - val_accuracy: 0.8527\n",
      "Epoch 4/15\n",
      "110/110 [==============================] - 0s 2ms/step - loss: 0.3085 - accuracy: 0.8535 - val_loss: 0.3446 - val_accuracy: 0.8669\n",
      "Epoch 5/15\n",
      "110/110 [==============================] - 0s 2ms/step - loss: 0.2851 - accuracy: 0.8606 - val_loss: 0.3350 - val_accuracy: 0.8601\n",
      "Epoch 6/15\n",
      "110/110 [==============================] - 0s 3ms/step - loss: 0.2729 - accuracy: 0.8704 - val_loss: 0.3424 - val_accuracy: 0.8430\n",
      "Epoch 7/15\n",
      "110/110 [==============================] - 0s 2ms/step - loss: 0.2644 - accuracy: 0.8760 - val_loss: 0.3012 - val_accuracy: 0.8663\n",
      "Epoch 8/15\n",
      "110/110 [==============================] - 0s 2ms/step - loss: 0.2580 - accuracy: 0.8810 - val_loss: 0.2945 - val_accuracy: 0.8743\n",
      "Epoch 9/15\n",
      "110/110 [==============================] - 0s 2ms/step - loss: 0.2475 - accuracy: 0.8849 - val_loss: 0.2671 - val_accuracy: 0.9022\n",
      "Epoch 10/15\n",
      "110/110 [==============================] - 0s 2ms/step - loss: 0.2420 - accuracy: 0.8903 - val_loss: 0.2663 - val_accuracy: 0.8942\n",
      "Epoch 11/15\n",
      "110/110 [==============================] - 0s 2ms/step - loss: 0.2369 - accuracy: 0.8898 - val_loss: 0.2786 - val_accuracy: 0.8840\n",
      "Epoch 12/15\n",
      "110/110 [==============================] - 0s 2ms/step - loss: 0.2292 - accuracy: 0.8916 - val_loss: 0.2440 - val_accuracy: 0.8976\n",
      "Epoch 13/15\n",
      "110/110 [==============================] - 0s 2ms/step - loss: 0.2264 - accuracy: 0.8994 - val_loss: 0.2401 - val_accuracy: 0.9067\n",
      "Epoch 14/15\n",
      "110/110 [==============================] - 0s 2ms/step - loss: 0.2218 - accuracy: 0.8990 - val_loss: 0.2564 - val_accuracy: 0.8936\n",
      "Epoch 15/15\n",
      "110/110 [==============================] - 0s 2ms/step - loss: 0.2176 - accuracy: 0.8992 - val_loss: 0.2457 - val_accuracy: 0.8936\n"
     ]
    }
   ],
   "source": [
    "history = model.fit(x_train,y_train,epochs=15,batch_size=64,validation_data=(x_test,y_test))"
   ]
  },
  {
   "cell_type": "code",
   "execution_count": 144,
   "id": "964b6c76-f820-44a6-a185-7c224ae05ea5",
   "metadata": {},
   "outputs": [
    {
     "data": {
      "text/plain": [
       "<matplotlib.legend.Legend at 0x27a28dc39a0>"
      ]
     },
     "execution_count": 144,
     "metadata": {},
     "output_type": "execute_result"
    },
    {
     "data": {
      "image/png": "[encoded data removed]",
      "text/plain": [
       "<Figure size 640x480 with 1 Axes>"
      ]
     },
     "metadata": {},
     "output_type": "display_data"
    }
   ],
   "source": [
    "plt.plot(history.history['loss'])\n",
    "plt.plot(history.history['val_loss'])\n",
    "plt.title('Model Loss')\n",
    "plt.xlabel('Epoch')\n",
    "plt.ylabel('Loss')\n",
    "plt.legend(['Train', 'Validation'], loc='upper left')"
   ]
  },
  {
   "cell_type": "code",
   "execution_count": 145,
   "id": "d9a6c2ec-f0fa-4fbd-b744-89c8a3418ff9",
   "metadata": {},
   "outputs": [
    {
     "data": {
      "image/png": "[encoded data removed]",
      "text/plain": [
       "<Figure size 640x480 with 1 Axes>"
      ]
     },
     "metadata": {},
     "output_type": "display_data"
    }
   ],
   "source": [
    "plt.plot(history.history['accuracy'])\n",
    "plt.plot(history.history['val_accuracy'])\n",
    "plt.title('Model Accuracy')\n",
    "plt.xlabel('Epoch')\n",
    "plt.ylabel('Accuracy')\n",
    "plt.legend(['Train', 'Validation'], loc='upper left')\n",
    "plt.show()"
   ]
  },
  {
   "cell_type": "code",
   "execution_count": null,
   "id": "f9493590-73a8-4a5e-9740-98dc9176c4a4",
   "metadata": {},
   "outputs": [],
   "source": []
  }
 ],
 "metadata": {
  "kernelspec": {
   "display_name": "Python 3 (ipykernel)",
   "language": "python",
   "name": "python3"
  },
  "language_info": {
   "codemirror_mode": {
    "name": "ipython",
    "version": 3
   },
   "file_extension": ".py",
   "mimetype": "text/x-python",
   "name": "python",
   "nbconvert_exporter": "python",
   "pygments_lexer": "ipython3",
   "version": "3.10.11"
  }
 },
 "nbformat": 4,
 "nbformat_minor": 5
}
